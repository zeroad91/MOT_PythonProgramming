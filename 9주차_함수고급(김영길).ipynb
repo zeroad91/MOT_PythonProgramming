{
 "cells": [
  {
   "cell_type": "markdown",
   "id": "1d5c2a3f-8695-425b-832b-2dc0f1de1107",
   "metadata": {},
   "source": [
    "## 2024 석사과정 김영길(2024155760)\n",
    "\n",
    "## 9주차 함수 고급 숙제\n",
    "## p.4 ~  p. 24 까지의 코드를 모두 따라서 코딩하고 실행"
   ]
  },
  {
   "cell_type": "markdown",
   "id": "031962fb-fe39-49ea-8347-fe6f8cf3b7e7",
   "metadata": {},
   "source": [
    "## List Comprehension"
   ]
  },
  {
   "cell_type": "code",
   "execution_count": 1,
   "id": "c954a442-0895-4095-b28c-251329892559",
   "metadata": {},
   "outputs": [
    {
     "name": "stdout",
     "output_type": "stream",
     "text": [
      "[1, 2, 3, 4, 5]\n"
     ]
    }
   ],
   "source": [
    "number_list = []\n",
    "number_list.append(1)\n",
    "number_list.append(2)\n",
    "number_list.append(3)\n",
    "number_list.append(4)\n",
    "number_list.append(5)\n",
    "\n",
    "print( number_list )"
   ]
  },
  {
   "cell_type": "code",
   "execution_count": 2,
   "id": "a1d6ccc5-e0c9-4e55-b2dc-526ce3ff5a3d",
   "metadata": {},
   "outputs": [
    {
     "name": "stdout",
     "output_type": "stream",
     "text": [
      "[1, 2, 3, 4, 5]\n"
     ]
    }
   ],
   "source": [
    "number_list = []\n",
    "for number in range(1,6) :\n",
    "    number_list.append(number)\n",
    "\n",
    "print(number_list)"
   ]
  },
  {
   "cell_type": "code",
   "execution_count": 3,
   "id": "42aaeabf-bbdf-45a3-bf99-72d60cd2d3de",
   "metadata": {},
   "outputs": [
    {
     "name": "stdout",
     "output_type": "stream",
     "text": [
      "[1, 2, 3, 4, 5]\n"
     ]
    }
   ],
   "source": [
    "number_list = list(range(1,6))\n",
    "\n",
    "print(number_list)"
   ]
  },
  {
   "cell_type": "code",
   "execution_count": 5,
   "id": "23e5e186-84d6-4a8e-8725-4e68b727411d",
   "metadata": {},
   "outputs": [
    {
     "name": "stdout",
     "output_type": "stream",
     "text": [
      "[1, 2, 3, 4, 5]\n"
     ]
    }
   ],
   "source": [
    "number_list = [number for number in range(1,6)]\n",
    "\n",
    "print(number_list)"
   ]
  },
  {
   "cell_type": "code",
   "execution_count": 7,
   "id": "0b0d09a3-6ba9-4470-a0ef-9a6f2493b339",
   "metadata": {},
   "outputs": [
    {
     "name": "stdout",
     "output_type": "stream",
     "text": [
      "[0, 1, 2, 3, 4]\n"
     ]
    }
   ],
   "source": [
    "number_list = [number-1 for number in range(1,6)]\n",
    "\n",
    "print(number_list)"
   ]
  },
  {
   "cell_type": "code",
   "execution_count": 9,
   "id": "7fcfbf2b-7a27-4841-9ac5-62c8af222ec7",
   "metadata": {},
   "outputs": [
    {
     "name": "stdout",
     "output_type": "stream",
     "text": [
      "[1, 3, 5]\n"
     ]
    }
   ],
   "source": [
    "a_list = [number for number in range(1,6) if number %2 == 1]\n",
    "\n",
    "print(a_list)"
   ]
  },
  {
   "cell_type": "code",
   "execution_count": 11,
   "id": "d9aa4175-c831-4372-8cb9-0011aa36e7c0",
   "metadata": {},
   "outputs": [
    {
     "data": {
      "text/plain": [
       "['i', 'love', 'python', 'soooooo', 'much!!!']"
      ]
     },
     "execution_count": 11,
     "metadata": {},
     "output_type": "execute_result"
    }
   ],
   "source": [
    "sentence = ['I', 'Love', 'Python', 'Soooooo', 'MUCH!!!']\n",
    "\n",
    "# 함수 적용\n",
    "[word.lower() for word in sentence ]"
   ]
  },
  {
   "cell_type": "code",
   "execution_count": 12,
   "id": "98fce734-7787-4b0a-96bd-1edb39a763a2",
   "metadata": {},
   "outputs": [
    {
     "data": {
      "text/plain": [
       "['Soooooo', 'MUCH!!!']"
      ]
     },
     "execution_count": 12,
     "metadata": {},
     "output_type": "execute_result"
    }
   ],
   "source": [
    "# 조건 적용\n",
    "[word for word in sentence if len(word) > 6]"
   ]
  },
  {
   "cell_type": "code",
   "execution_count": 13,
   "id": "96331d51-3a2e-4cf5-b7b8-a3125cd71f61",
   "metadata": {},
   "outputs": [
    {
     "data": {
      "text/plain": [
       "[(0, 0, 0),\n",
       " (1, 1, 1),\n",
       " (2, 4, 8),\n",
       " (3, 9, 27),\n",
       " (4, 16, 64),\n",
       " (5, 25, 125),\n",
       " (6, 36, 216),\n",
       " (7, 49, 343),\n",
       " (8, 64, 512),\n",
       " (9, 81, 729)]"
      ]
     },
     "execution_count": 13,
     "metadata": {},
     "output_type": "execute_result"
    }
   ],
   "source": [
    "# 함수 적용하여 튜플로 저장\n",
    "[(x, x ** 2, x ** 3) for x in range(10)]"
   ]
  },
  {
   "cell_type": "code",
   "execution_count": 15,
   "id": "80dbdcb9-ca32-4f5a-b0f1-e5271e948110",
   "metadata": {},
   "outputs": [
    {
     "name": "stdout",
     "output_type": "stream",
     "text": [
      "1 1\n",
      "1 2\n",
      "2 1\n",
      "2 2\n",
      "3 1\n",
      "3 2\n"
     ]
    }
   ],
   "source": [
    "rows = range(1,4)\n",
    "cols = range(1,3)\n",
    "for row in rows:\n",
    "    for col in cols:\n",
    "        print(row, col)"
   ]
  },
  {
   "cell_type": "code",
   "execution_count": 16,
   "id": "c8f4cb2e-71a7-4a7f-9510-d7c1e331119f",
   "metadata": {},
   "outputs": [
    {
     "name": "stdout",
     "output_type": "stream",
     "text": [
      "(3, 1)\n",
      "(3, 2)\n",
      "(3, 1)\n",
      "(3, 2)\n",
      "(3, 1)\n",
      "(3, 2)\n"
     ]
    }
   ],
   "source": [
    "rows = range(1,4)\n",
    "cols = range(1,3)\n",
    "cells = [(row,col) for rows in rows for col in cols]\n",
    "for cell in cells:\n",
    "    print(cell)"
   ]
  },
  {
   "cell_type": "code",
   "execution_count": 19,
   "id": "5ce47fd9-65fd-40b1-b22f-b5b059912027",
   "metadata": {},
   "outputs": [
    {
     "data": {
      "text/plain": [
       "[(1, 0),\n",
       " (2, 0),\n",
       " (2, 1),\n",
       " (3, 0),\n",
       " (3, 1),\n",
       " (3, 2),\n",
       " (4, 0),\n",
       " (4, 1),\n",
       " (4, 2),\n",
       " (4, 3)]"
      ]
     },
     "execution_count": 19,
     "metadata": {},
     "output_type": "execute_result"
    }
   ],
   "source": [
    "[(i,j) for i in range(5) for j in range(i)]"
   ]
  },
  {
   "cell_type": "markdown",
   "id": "289c566d-cb04-4580-b8d5-ff329b51bcd6",
   "metadata": {},
   "source": [
    "## Dictionary Comprehension"
   ]
  },
  {
   "cell_type": "code",
   "execution_count": 21,
   "id": "31eeda58-679a-49f7-b54e-421ce9c246d4",
   "metadata": {},
   "outputs": [
    {
     "name": "stdout",
     "output_type": "stream",
     "text": [
      "{'l': 1, 'e': 2, 't': 2, 'r': 1, 's': 1}\n"
     ]
    }
   ],
   "source": [
    "word = 'letters'\n",
    "letter_counts = {letter: word.count(letter) for letter in word}\n",
    "\n",
    "print(letter_counts)"
   ]
  },
  {
   "cell_type": "code",
   "execution_count": 22,
   "id": "96d9fbd2-a1a6-4539-b925-1f0a80a439a0",
   "metadata": {},
   "outputs": [
    {
     "name": "stdout",
     "output_type": "stream",
     "text": [
      "{'t': 2, 's': 1, 'r': 1, 'l': 1, 'e': 2}\n"
     ]
    }
   ],
   "source": [
    "word = 'letters'\n",
    "letter_counts = {letter:word.count(letter) for letter in set(word)}\n",
    "\n",
    "print(letter_counts)"
   ]
  },
  {
   "cell_type": "markdown",
   "id": "79ee69a4-7a91-4974-abfb-b31abb48bfd9",
   "metadata": {},
   "source": [
    "## Set Comprehension"
   ]
  },
  {
   "cell_type": "code",
   "execution_count": 23,
   "id": "75e2da70-c8a9-43a2-98b9-4146f4507387",
   "metadata": {},
   "outputs": [
    {
     "name": "stdout",
     "output_type": "stream",
     "text": [
      "{1, 4}\n"
     ]
    }
   ],
   "source": [
    "a_set = {number for number in range(1,6) if number %3 == 1}\n",
    "\n",
    "print(a_set)"
   ]
  },
  {
   "cell_type": "markdown",
   "id": "bdbd48fe-a53a-4725-9a43-e1e1dafb4cb9",
   "metadata": {},
   "source": [
    "## Functions and code structure"
   ]
  },
  {
   "cell_type": "code",
   "execution_count": 27,
   "id": "bde84c6a-a888-4ba2-976a-ed48ca43d364",
   "metadata": {},
   "outputs": [
    {
     "name": "stdout",
     "output_type": "stream",
     "text": [
      "3\n",
      "3.4000000000000004\n",
      "love python\n"
     ]
    }
   ],
   "source": [
    "def sum(a,b):\n",
    "    return a+b\n",
    "\n",
    "print( sum(1,2) )\n",
    "print( sum(1.3, 2.1) )\n",
    "print( sum('love ','python') )"
   ]
  },
  {
   "cell_type": "raw",
   "id": "b7af5a1d-6519-4d5d-ac45-56ddba6a2764",
   "metadata": {},
   "source": [
    "## iteration - zip()"
   ]
  },
  {
   "cell_type": "code",
   "execution_count": 31,
   "id": "29feb5ab-01ca-431d-be60-205d9f151c1b",
   "metadata": {},
   "outputs": [
    {
     "name": "stdout",
     "output_type": "stream",
     "text": [
      "Monday : drink coffee - eat banana - enjoy tiramisu\n",
      "Tuesday : drink tea - eat orange - enjoy ice cream\n",
      "Wednesday : drink beer - eat peach - enjoy pie\n"
     ]
    }
   ],
   "source": [
    "days = ['Monday', 'Tuesday', 'Wednesday']\n",
    "fruits = ['banana', 'orange', 'peach']\n",
    "drinks = ['coffee', 'tea', 'beer']\n",
    "desserts = ['tiramisu', 'ice cream', 'pie', 'pudding']\n",
    "\n",
    "for day, fruit, drink, dessert in zip(days, fruits, drinks, desserts):\n",
    "    print(day, \": drink\", drink, \"- eat\",fruit, \"- enjoy\",dessert)  "
   ]
  },
  {
   "cell_type": "code",
   "execution_count": 35,
   "id": "1977db54-ffa2-4f0a-9d77-8c754b01fb48",
   "metadata": {},
   "outputs": [
    {
     "name": "stdout",
     "output_type": "stream",
     "text": [
      "[('Monday', 'Lundi'), ('Tuesday', 'Mardi'), ('Wednesday', 'Mercredi')]\n",
      "{'Monday': 'Lundi', 'Tuesday': 'Mardi', 'Wednesday': 'Mercredi'}\n"
     ]
    }
   ],
   "source": [
    "english = 'Monday', 'Tuesday', 'Wednesday'\n",
    "french = 'Lundi', 'Mardi', 'Mercredi'\n",
    "\n",
    "print( list(zip(english, french)) )\n",
    "print( dict(zip(english, french)) )\n",
    "     "
   ]
  },
  {
   "cell_type": "markdown",
   "id": "2b4ef1ff-4ce9-4c51-9f84-545cf2192ff8",
   "metadata": {},
   "source": [
    "## 함수 위치 인자"
   ]
  },
  {
   "cell_type": "code",
   "execution_count": 37,
   "id": "043eb307-46da-4d25-9b7e-2023779e07d6",
   "metadata": {},
   "outputs": [
    {
     "data": {
      "text/plain": [
       "{'wine': 'chardonnay', 'entree': 'chicken', 'dessert': 'cake'}"
      ]
     },
     "execution_count": 37,
     "metadata": {},
     "output_type": "execute_result"
    }
   ],
   "source": [
    "def menu(wine, entree, dessert):\n",
    "    return {'wine': wine, 'entree': entree, 'dessert': dessert}\n",
    "\n",
    "menu('chardonnay', 'chicken', 'cake')"
   ]
  },
  {
   "cell_type": "markdown",
   "id": "1d6920c5-24e2-4cfd-88b3-1312957f3025",
   "metadata": {},
   "source": [
    "## 함수 키워드 인자"
   ]
  },
  {
   "cell_type": "code",
   "execution_count": 44,
   "id": "23eec370-f212-4a32-9799-c084acfe3849",
   "metadata": {},
   "outputs": [
    {
     "name": "stdout",
     "output_type": "stream",
     "text": [
      "{'wine': 'bordeaux', 'entree': 'beef', 'dessert': 'bagel'}\n",
      "{'wine': 'frontenac', 'entree': 'fish', 'dessert': 'flan'}\n"
     ]
    }
   ],
   "source": [
    "def menu(wine, entree, dessert):\n",
    "    return {'wine': wine, 'entree': entree, 'dessert': dessert}\n",
    "\n",
    "print( menu(entree='beef', dessert='bagel', wine='bordeaux') )\n",
    "\n",
    "print( menu('frontenac', dessert='flan', entree='fish') )\n"
   ]
  },
  {
   "cell_type": "markdown",
   "id": "8e3c82bf-d47f-47dd-a121-a3a7a9150fd0",
   "metadata": {},
   "source": [
    "## 기본 매개변수 값 정하기"
   ]
  },
  {
   "cell_type": "code",
   "execution_count": 48,
   "id": "bb9e69d5-55f7-488d-8573-6c2123e3fed9",
   "metadata": {},
   "outputs": [
    {
     "name": "stdout",
     "output_type": "stream",
     "text": [
      "{'wine': 'chardonnay', 'entree': 'chicken', 'dessert': 'pudding'}\n",
      "{'wine': 'dunkelfelder', 'entree': 'duck', 'dessert': 'doughnut'}\n"
     ]
    }
   ],
   "source": [
    "def menu(wine, entree, dessert='pudding'):\n",
    "    return {'wine': wine, 'entree': entree, 'dessert': dessert}\n",
    "\n",
    "print( menu('chardonnay', 'chicken') )\n",
    "print( menu('dunkelfelder', 'duck', 'doughnut') )"
   ]
  },
  {
   "cell_type": "code",
   "execution_count": 52,
   "id": "56d1bcbf-0b0d-4f04-8288-5423c56aba73",
   "metadata": {},
   "outputs": [
    {
     "name": "stdout",
     "output_type": "stream",
     "text": [
      "{'price': 100, 'wine': 'chardonnay', 'entree': 'chicken', 'dessert': 'pudding'}\n",
      "{'price': 100, 'wine': 'chardonnay', 'entree': 'chicken', 'dessert': 'pudding'}\n",
      "{'price': 120, 'wine': 'chardonnay', 'entree': 'beef', 'dessert': 'pudding'}\n",
      "{'price': 110, 'wine': 'chardonnay', 'entree': 'chicken', 'dessert': 'bagel'}\n",
      "{'price': 'eighty', 'wine': 'saint-pierre', 'entree': 'fish', 'dessert': 'pudding'}\n",
      "{'price': 'hundred', 'wine': 'saint-pierre', 'entree': 'chicken', 'dessert': 'pudding'}\n"
     ]
    }
   ],
   "source": [
    "def menu(price, wine='chardonnay', entree='chicken', dessert='pudding'):\n",
    "    return {'price': price, 'wine': wine, 'entree': entree, 'dessert': dessert}\n",
    "\n",
    "print( menu(100) ) # 1 위치 인자\n",
    "print( menu(price=100) ) # 1 키워드 인자\n",
    "print( menu(price=120, entree='beef') )# 2 키워드 인자\n",
    "print( menu(dessert='bagel', price=110) ) # 2 키워드 인자\n",
    "print( menu('eighty', 'saint-pierre', 'fish') ) # 3 위치 인자\n",
    "print( menu('hundred', wine='saint-pierre') ) # 1 위치 인자, 1 키워드 인자"
   ]
  },
  {
   "cell_type": "markdown",
   "id": "9138d7e6-0b4b-4d39-9939-8b82f5ed07b5",
   "metadata": {},
   "source": [
    "## docstring"
   ]
  },
  {
   "cell_type": "code",
   "execution_count": 58,
   "id": "e62be4f4-d3d6-4070-8125-1f76bb987a8a",
   "metadata": {},
   "outputs": [
    {
     "name": "stdout",
     "output_type": "stream",
     "text": [
      "Help on function echo in module __main__:\n",
      "\n",
      "echo(anything)\n",
      "    echo returns its input argument\n",
      "\n",
      "echo returns its input argument\n"
     ]
    }
   ],
   "source": [
    "def echo(anything):\n",
    "    'echo returns its input argument'\n",
    "    return anything\n",
    "\n",
    "def print_if_true(thing, check):\n",
    "    \"\"\"\n",
    "    Prints the first argument if a second argument is true.\n",
    "    The operation is:\n",
    "    1. Check whether the *second* argument is true.\n",
    "    2. If it is, print the *first* argument.\n",
    "    \"\"\"\n",
    "    if check:\n",
    "        print(thing)\n",
    "\n",
    "help(echo)\n",
    "\n",
    "print(echo.__doc__)"
   ]
  },
  {
   "cell_type": "code",
   "execution_count": 59,
   "id": "c77182f4-3204-4ee5-986d-2f623aca20c3",
   "metadata": {},
   "outputs": [
    {
     "data": {
      "text/plain": [
       "4.0"
      ]
     },
     "execution_count": 59,
     "metadata": {},
     "output_type": "execute_result"
    }
   ],
   "source": [
    "import math\n",
    "math.sqrt(16)"
   ]
  }
 ],
 "metadata": {
  "kernelspec": {
   "display_name": "Python 3 (ipykernel)",
   "language": "python",
   "name": "python3"
  },
  "language_info": {
   "codemirror_mode": {
    "name": "ipython",
    "version": 3
   },
   "file_extension": ".py",
   "mimetype": "text/x-python",
   "name": "python",
   "nbconvert_exporter": "python",
   "pygments_lexer": "ipython3",
   "version": "3.9.13"
  }
 },
 "nbformat": 4,
 "nbformat_minor": 5
}
