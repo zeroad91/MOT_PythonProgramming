{
 "cells": [
  {
   "cell_type": "markdown",
   "id": "45ca75fe-59a9-4e2a-920d-2d703d727082",
   "metadata": {},
   "source": [
    "## 2024 석사과정 김영길(2024155760)\n",
    "\n",
    "## 7주차_숙제 ReadFile"
   ]
  },
  {
   "cell_type": "code",
   "execution_count": 28,
   "id": "3196f15a-13f9-4b91-a728-f891a9f16349",
   "metadata": {},
   "outputs": [],
   "source": [
    "#or use GDrive mounting method #나의 구글드라이브에 접근할 수 있는 권한을 부여하는 것 #기본 정지 작업 왜? 내가 가지고 있는 구글드라이브에서 파일 입출력을 하기 위해서 \n",
    "#from google.colab import drive\n",
    "#drive.mount('/content/gdrive')"
   ]
  },
  {
   "cell_type": "code",
   "execution_count": 29,
   "id": "d60f5ee8-6d06-416c-b958-5cb4f04b3d4d",
   "metadata": {},
   "outputs": [],
   "source": [
    "# Local File\n",
    "example1 = \"./TopSellingAlbums.csv\"\n",
    "file1 = open(example1,\"r\")"
   ]
  },
  {
   "cell_type": "code",
   "execution_count": 16,
   "id": "4ba8fc55-7bd3-4c77-9e3f-2d87ea73ce41",
   "metadata": {},
   "outputs": [
    {
     "name": "stdout",
     "output_type": "stream",
     "text": [
      "./TopSellingAlbums.csv\n",
      "r\n"
     ]
    }
   ],
   "source": [
    "print( file1.name )\n",
    "print(file1.mode)"
   ]
  },
  {
   "cell_type": "code",
   "execution_count": 30,
   "id": "7960930e-acc8-4bba-b9b5-24c54b1fb4e2",
   "metadata": {},
   "outputs": [
    {
     "data": {
      "text/plain": [
       "'Artist,Album,Released,Length,Genre,Music Recording Sales (millions),Claimed Sales (millions),Released,Soundtrack,Rating\\nMichael Jackson,Thriller,1982,0:42:19,\"pop, rock, R&B\",46,65,30-Nov-82,,10\\nAC/DC,Back in Black,1980,0:42:11,hard rock,26.1,50,25-Jul-80,,9.5\\nPink Floyd,The Dark Side of the Moon,1973,0:42:49,progressive rock,24.2,45,01-Mar-73,,9\\nWhitney Houston,The Bodyguard,1992,0:57:44,\"R&B, soul, pop\",27.4,44,17-Nov-92,Y,8.5\\nMeat Loaf,Bat Out of Hell,1977,0:46:33,\"hard rock, progressive rock\",20.6,43,21-Oct-77,,8\\nEagles,Their Greatest Hits (1971-1975),1976,0:43:08,\"rock, soft rock, folk rock\",32.2,42,17-Feb-76,,7.5\\nBee Gees,Saturday Night Fever,1977,1:15:54,disco,20.6,40,15-Nov-77,Y,7\\nFleetwood Mac,Rumours,1977,0:40:01,soft rock,27.9,40,04-Feb-77,,6.5\\n'"
      ]
     },
     "execution_count": 30,
     "metadata": {},
     "output_type": "execute_result"
    }
   ],
   "source": [
    "FileContent = file1.read()\n",
    "FileContent"
   ]
  },
  {
   "cell_type": "code",
   "execution_count": 31,
   "id": "8ceac2a4-7e6a-4bf8-8611-0fda964f7512",
   "metadata": {},
   "outputs": [
    {
     "name": "stdout",
     "output_type": "stream",
     "text": [
      "Artist,Album,Released,Length,Genre,Music Recording Sales (millions),Claimed Sales (millions),Released,Soundtrack,Rating\n",
      "Michael Jackson,Thriller,1982,0:42:19,\"pop, rock, R&B\",46,65,30-Nov-82,,10\n",
      "AC/DC,Back in Black,1980,0:42:11,hard rock,26.1,50,25-Jul-80,,9.5\n",
      "Pink Floyd,The Dark Side of the Moon,1973,0:42:49,progressive rock,24.2,45,01-Mar-73,,9\n",
      "Whitney Houston,The Bodyguard,1992,0:57:44,\"R&B, soul, pop\",27.4,44,17-Nov-92,Y,8.5\n",
      "Meat Loaf,Bat Out of Hell,1977,0:46:33,\"hard rock, progressive rock\",20.6,43,21-Oct-77,,8\n",
      "Eagles,Their Greatest Hits (1971-1975),1976,0:43:08,\"rock, soft rock, folk rock\",32.2,42,17-Feb-76,,7.5\n",
      "Bee Gees,Saturday Night Fever,1977,1:15:54,disco,20.6,40,15-Nov-77,Y,7\n",
      "Fleetwood Mac,Rumours,1977,0:40:01,soft rock,27.9,40,04-Feb-77,,6.5\n",
      "\n"
     ]
    }
   ],
   "source": [
    "print(FileContent)"
   ]
  },
  {
   "cell_type": "code",
   "execution_count": 20,
   "id": "cd2e6509-236b-457c-a6e3-b8fde6769ee1",
   "metadata": {},
   "outputs": [
    {
     "data": {
      "text/plain": [
       "str"
      ]
     },
     "execution_count": 20,
     "metadata": {},
     "output_type": "execute_result"
    }
   ],
   "source": [
    "type(FileContent)"
   ]
  },
  {
   "cell_type": "code",
   "execution_count": 32,
   "id": "4b229a43-7715-493d-8d39-89c7830eb267",
   "metadata": {},
   "outputs": [],
   "source": [
    "file1.close()"
   ]
  },
  {
   "cell_type": "markdown",
   "id": "16329411-2b42-41a8-be50-89d10cf3c822",
   "metadata": {},
   "source": [
    "<h2 id=\"better\">A Better Way to Open a File</h2>"
   ]
  },
  {
   "cell_type": "code",
   "execution_count": 35,
   "id": "f75d1bbb-b3a5-4a19-bb6c-77658aa689b3",
   "metadata": {},
   "outputs": [
    {
     "name": "stdout",
     "output_type": "stream",
     "text": [
      "Artist,Album,Released,Length,Genre,Music Recording Sales (millions),Claimed Sales (millions),Released,Soundtrack,Rating\n",
      "Michael Jackson,Thriller,1982,0:42:19,\"pop, rock, R&B\",46,65,30-Nov-82,,10\n",
      "AC/DC,Back in Black,1980,0:42:11,hard rock,26.1,50,25-Jul-80,,9.5\n",
      "Pink Floyd,The Dark Side of the Moon,1973,0:42:49,progressive rock,24.2,45,01-Mar-73,,9\n",
      "Whitney Houston,The Bodyguard,1992,0:57:44,\"R&B, soul, pop\",27.4,44,17-Nov-92,Y,8.5\n",
      "Meat Loaf,Bat Out of Hell,1977,0:46:33,\"hard rock, progressive rock\",20.6,43,21-Oct-77,,8\n",
      "Eagles,Their Greatest Hits (1971-1975),1976,0:43:08,\"rock, soft rock, folk rock\",32.2,42,17-Feb-76,,7.5\n",
      "Bee Gees,Saturday Night Fever,1977,1:15:54,disco,20.6,40,15-Nov-77,Y,7\n",
      "Fleetwood Mac,Rumours,1977,0:40:01,soft rock,27.9,40,04-Feb-77,,6.5\n",
      "\n"
     ]
    }
   ],
   "source": [
    "# Open file using with\n",
    "\n",
    "with open(example1, \"r\") as file1:\n",
    "    FileContent = file1.read()\n",
    "    print(FileContent)"
   ]
  },
  {
   "cell_type": "code",
   "execution_count": 36,
   "id": "33032c77-a521-42bf-84b9-deebac40651a",
   "metadata": {},
   "outputs": [
    {
     "data": {
      "text/plain": [
       "True"
      ]
     },
     "execution_count": 36,
     "metadata": {},
     "output_type": "execute_result"
    }
   ],
   "source": [
    "# Verify if the file is closed\n",
    "file1.closed"
   ]
  },
  {
   "cell_type": "code",
   "execution_count": 37,
   "id": "3f9673cf-79b7-40dc-846d-0a32b3710578",
   "metadata": {},
   "outputs": [
    {
     "name": "stdout",
     "output_type": "stream",
     "text": [
      "Artist,Album,Released,Length,Genre,Music Recording Sales (millions),Claimed Sales (millions),Released,Soundtrack,Rating\n",
      "Michael Jackson,Thriller,1982,0:42:19,\"pop, rock, R&B\",46,65,30-Nov-82,,10\n",
      "AC/DC,Back in Black,1980,0:42:11,hard rock,26.1,50,25-Jul-80,,9.5\n",
      "Pink Floyd,The Dark Side of the Moon,1973,0:42:49,progressive rock,24.2,45,01-Mar-73,,9\n",
      "Whitney Houston,The Bodyguard,1992,0:57:44,\"R&B, soul, pop\",27.4,44,17-Nov-92,Y,8.5\n",
      "Meat Loaf,Bat Out of Hell,1977,0:46:33,\"hard rock, progressive rock\",20.6,43,21-Oct-77,,8\n",
      "Eagles,Their Greatest Hits (1971-1975),1976,0:43:08,\"rock, soft rock, folk rock\",32.2,42,17-Feb-76,,7.5\n",
      "Bee Gees,Saturday Night Fever,1977,1:15:54,disco,20.6,40,15-Nov-77,Y,7\n",
      "Fleetwood Mac,Rumours,1977,0:40:01,soft rock,27.9,40,04-Feb-77,,6.5\n",
      "\n"
     ]
    }
   ],
   "source": [
    "# See the content of file\n",
    "print(FileContent)"
   ]
  },
  {
   "cell_type": "code",
   "execution_count": 42,
   "id": "62e5a9d0-bfa7-45f9-928f-ee5b031fdf82",
   "metadata": {},
   "outputs": [
    {
     "name": "stdout",
     "output_type": "stream",
     "text": [
      "Arti\n"
     ]
    }
   ],
   "source": [
    "# Read first four characters\n",
    "\n",
    "with open(example1, \"r\") as file1:\n",
    "    print(file1.read(4))"
   ]
  },
  {
   "cell_type": "code",
   "execution_count": 43,
   "id": "12d8fcb5-50c2-406f-be4e-443be9a4e69c",
   "metadata": {},
   "outputs": [
    {
     "name": "stdout",
     "output_type": "stream",
     "text": [
      "Arti\n",
      "st,A\n",
      "lbum,Re\n",
      "leased,Length,G\n"
     ]
    }
   ],
   "source": [
    "# Read certain amount of characters\n",
    "\n",
    "with open(example1, \"r\") as file1:\n",
    "    print(file1.read(4))\n",
    "    print(file1.read(4))\n",
    "    print(file1.read(7))\n",
    "    print(file1.read(15))    "
   ]
  },
  {
   "cell_type": "code",
   "execution_count": 44,
   "id": "0ad91e12-96cd-4da7-a45f-c210f7f135d4",
   "metadata": {},
   "outputs": [
    {
     "name": "stdout",
     "output_type": "stream",
     "text": [
      "Artist,Album,Rel\n",
      "eased\n",
      ",Length,G\n"
     ]
    }
   ],
   "source": [
    "# Read certain amount of characters\n",
    "\n",
    "with open(example1, \"r\") as file1:\n",
    "    print(file1.read(16))\n",
    "    print(file1.read(5))\n",
    "    print(file1.read(9))"
   ]
  },
  {
   "cell_type": "code",
   "execution_count": 45,
   "id": "e6f94c11-3029-44f3-8614-6739219f7044",
   "metadata": {},
   "outputs": [
    {
     "name": "stdout",
     "output_type": "stream",
     "text": [
      "first line :  Artist,Album,Released,Length,Genre,Music Recording Sales (millions),Claimed Sales (millions),Released,Soundtrack,Rating\n",
      "\n",
      "second line :  Michael Jackson,Thriller,1982,0:42:19,\"pop, rock, R&B\",46,65,30-Nov-82,,10\n",
      "\n",
      "third line :  AC/DC,Back in Black,1980,0:42:11,hard rock,26.1,50,25-Jul-80,,9.5\n",
      "\n"
     ]
    }
   ],
   "source": [
    "# Read one line\n",
    "\n",
    "with open(example1, \"r\") as file1:\n",
    "    print(\"first line : \", file1.readline())\n",
    "    print(\"second line : \", file1.readline())\n",
    "    print(\"third line : \", file1.readline())\n",
    "        "
   ]
  },
  {
   "cell_type": "code",
   "execution_count": 49,
   "id": "a100ab6c-b9e1-4978-868b-4e2ca76bf08f",
   "metadata": {},
   "outputs": [
    {
     "name": "stdout",
     "output_type": "stream",
     "text": [
      "iteration  0 :  Artist,Album,Released,Length,Genre,Music Recording Sales (millions),Claimed Sales (millions),Released,Soundtrack,Rating\n",
      "\n",
      "iteration  1 :  Michael Jackson,Thriller,1982,0:42:19,\"pop, rock, R&B\",46,65,30-Nov-82,,10\n",
      "\n",
      "iteration  2 :  AC/DC,Back in Black,1980,0:42:11,hard rock,26.1,50,25-Jul-80,,9.5\n",
      "\n",
      "iteration  3 :  Pink Floyd,The Dark Side of the Moon,1973,0:42:49,progressive rock,24.2,45,01-Mar-73,,9\n",
      "\n",
      "iteration  4 :  Whitney Houston,The Bodyguard,1992,0:57:44,\"R&B, soul, pop\",27.4,44,17-Nov-92,Y,8.5\n",
      "\n",
      "iteration  5 :  Meat Loaf,Bat Out of Hell,1977,0:46:33,\"hard rock, progressive rock\",20.6,43,21-Oct-77,,8\n",
      "\n",
      "iteration  6 :  Eagles,Their Greatest Hits (1971-1975),1976,0:43:08,\"rock, soft rock, folk rock\",32.2,42,17-Feb-76,,7.5\n",
      "\n",
      "iteration  7 :  Bee Gees,Saturday Night Fever,1977,1:15:54,disco,20.6,40,15-Nov-77,Y,7\n",
      "\n",
      "iteration  8 :  Fleetwood Mac,Rumours,1977,0:40:01,soft rock,27.9,40,04-Feb-77,,6.5\n",
      "\n"
     ]
    }
   ],
   "source": [
    "# Iterate through the lines\n",
    "\n",
    "with open(example1, \"r\") as file1:\n",
    "    i = 0\n",
    "    for line in file1:\n",
    "        print(\"iteration \",str(i), \": \", line)\n",
    "        i = i+1"
   ]
  },
  {
   "cell_type": "code",
   "execution_count": 50,
   "id": "0a1999d0-2123-4a03-b707-c3986a5261ce",
   "metadata": {},
   "outputs": [],
   "source": [
    "# read al llines and save as list\n",
    "\n",
    "with open(example1, \"r\") as file1:\n",
    "    fileAsList = file1.readlines()\n",
    "    "
   ]
  },
  {
   "cell_type": "code",
   "execution_count": 55,
   "id": "7c3df84c-4e9c-443e-a2ee-45e5a48ebfc9",
   "metadata": {},
   "outputs": [
    {
     "name": "stdout",
     "output_type": "stream",
     "text": [
      "Artist,Album,Released,Length,Genre,Music Recording Sales (millions),Claimed Sales (millions),Released,Soundtrack,Rating\n",
      "\n",
      "Michael Jackson,Thriller,1982,0:42:19,\"pop, rock, R&B\",46,65,30-Nov-82,,10\n",
      "\n",
      "AC/DC,Back in Black,1980,0:42:11,hard rock,26.1,50,25-Jul-80,,9.5\n",
      "\n",
      "Pink Floyd,The Dark Side of the Moon,1973,0:42:49,progressive rock,24.2,45,01-Mar-73,,9\n",
      "\n",
      "Whitney Houston,The Bodyguard,1992,0:57:44,\"R&B, soul, pop\",27.4,44,17-Nov-92,Y,8.5\n",
      "\n"
     ]
    }
   ],
   "source": [
    "print(fileAsList[0])\n",
    "print(fileAsList[1])\n",
    "print(fileAsList[2])\n",
    "print(fileAsList[3])\n",
    "print(fileAsList[4])"
   ]
  },
  {
   "cell_type": "code",
   "execution_count": null,
   "id": "58627957-04a6-4a3f-81ba-6e5d1a610405",
   "metadata": {},
   "outputs": [],
   "source": []
  }
 ],
 "metadata": {
  "kernelspec": {
   "display_name": "Python 3 (ipykernel)",
   "language": "python",
   "name": "python3"
  },
  "language_info": {
   "codemirror_mode": {
    "name": "ipython",
    "version": 3
   },
   "file_extension": ".py",
   "mimetype": "text/x-python",
   "name": "python",
   "nbconvert_exporter": "python",
   "pygments_lexer": "ipython3",
   "version": "3.9.13"
  }
 },
 "nbformat": 4,
 "nbformat_minor": 5
}
