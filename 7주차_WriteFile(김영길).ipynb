{
 "cells": [
  {
   "cell_type": "markdown",
   "id": "1d5c2a3f-8695-425b-832b-2dc0f1de1107",
   "metadata": {},
   "source": [
    "## 2024 석사과정 김영길(2024155760)\n",
    "\n",
    "## 7주차_숙제 WriteFile"
   ]
  },
  {
   "cell_type": "code",
   "execution_count": 35,
   "id": "c954a442-0895-4095-b28c-251329892559",
   "metadata": {},
   "outputs": [],
   "source": [
    "# Write line to file\n",
    "example1 = \"./example.txt\"\n",
    "with open(example1, \"w\") as writefile:\n",
    "    writefile.write(\"This is line A\")"
   ]
  },
  {
   "cell_type": "code",
   "execution_count": 36,
   "id": "a1d6ccc5-e0c9-4e55-b2dc-526ce3ff5a3d",
   "metadata": {},
   "outputs": [
    {
     "name": "stdout",
     "output_type": "stream",
     "text": [
      "This is line A\n"
     ]
    }
   ],
   "source": [
    "# read file\n",
    "with open(example1,\"r\") as file1:\n",
    "    print(file1.readline())"
   ]
  },
  {
   "cell_type": "code",
   "execution_count": 37,
   "id": "42aaeabf-bbdf-45a3-bf99-72d60cd2d3de",
   "metadata": {},
   "outputs": [],
   "source": [
    "# write lines to flie\n",
    "with open(\"./example2.txt\", 'w') as writefile2:\n",
    "    writefile2.write(\"This is line A\\n\")\n",
    "    writefile2.write(\"This is line B\\n\")\n",
    "    writefile2.write(\"This is line 10\\n\")"
   ]
  },
  {
   "cell_type": "code",
   "execution_count": 40,
   "id": "23e5e186-84d6-4a8e-8725-4e68b727411d",
   "metadata": {},
   "outputs": [
    {
     "name": "stdout",
     "output_type": "stream",
     "text": [
      "This is line A\n",
      "This is line B\n",
      "This is line 10\n",
      "\n"
     ]
    }
   ],
   "source": [
    "# Check whether write to file\n",
    "with open(\"example2.txt\",\"r\") as testwritefile:\n",
    "    print(testwritefile.read())"
   ]
  },
  {
   "cell_type": "code",
   "execution_count": 44,
   "id": "0b0d09a3-6ba9-4470-a0ef-9a6f2493b339",
   "metadata": {},
   "outputs": [],
   "source": [
    "# Write a new line to text file\n",
    "with open(\"example2.txt\",\"a\") as testwritefile:\n",
    "    testwritefile.write(\"this is line c\\n\")"
   ]
  },
  {
   "cell_type": "code",
   "execution_count": 45,
   "id": "7fcfbf2b-7a27-4841-9ac5-62c8af222ec7",
   "metadata": {},
   "outputs": [
    {
     "name": "stdout",
     "output_type": "stream",
     "text": [
      "This is line A\n",
      "This is line B\n",
      "This is line 10\n",
      "this is line c\n",
      "\n"
     ]
    }
   ],
   "source": [
    "# Verify if the new line is in the text file\n",
    "with open(\"example2.txt\",\"r\") as writefile:\n",
    "    print(writefile.read())"
   ]
  },
  {
   "cell_type": "code",
   "execution_count": 46,
   "id": "d9aa4175-c831-4372-8cb9-0011aa36e7c0",
   "metadata": {},
   "outputs": [
    {
     "data": {
      "text/plain": [
       "['This is line A\\n', 'This is line B\\n', 'This is line C\\n']"
      ]
     },
     "execution_count": 46,
     "metadata": {},
     "output_type": "execute_result"
    }
   ],
   "source": [
    "# Sample list of text\n",
    "\n",
    "Lines = [\"This is line A\\n\", \"This is line B\\n\", \"This is line C\\n\"]\n",
    "Lines"
   ]
  },
  {
   "cell_type": "code",
   "execution_count": 55,
   "id": "98fce734-7787-4b0a-96bd-1edb39a763a2",
   "metadata": {},
   "outputs": [
    {
     "name": "stdout",
     "output_type": "stream",
     "text": [
      "This is line A\n",
      "\n",
      "This is line B\n",
      "\n",
      "This is line C\n",
      "\n"
     ]
    }
   ],
   "source": [
    "with open(\"example3.txt\",\"w\") as writefile:\n",
    "    for line in Lines:\n",
    "        print(line)\n",
    "        writefile.write(line)"
   ]
  },
  {
   "cell_type": "code",
   "execution_count": 56,
   "id": "96331d51-3a2e-4cf5-b7b8-a3125cd71f61",
   "metadata": {},
   "outputs": [
    {
     "name": "stdout",
     "output_type": "stream",
     "text": [
      "This is line A\n",
      "This is line B\n",
      "This is line C\n",
      "\n"
     ]
    }
   ],
   "source": [
    "# Verify if writing to file is successfully executed\n",
    "with open(\"example3.txt\", \"r\") as testwritefile:\n",
    "    print(testwritefile.read())"
   ]
  },
  {
   "cell_type": "code",
   "execution_count": 57,
   "id": "80dbdcb9-ca32-4f5a-b0f1-e5271e948110",
   "metadata": {},
   "outputs": [],
   "source": [
    "# append the line to the file\n",
    "with open(\"example3.txt\",\"a\") as testwritefile:\n",
    "    testwritefile.write(\"This is line D\\n\")"
   ]
  },
  {
   "cell_type": "code",
   "execution_count": 58,
   "id": "c8f4cb2e-71a7-4a7f-9510-d7c1e331119f",
   "metadata": {},
   "outputs": [
    {
     "name": "stdout",
     "output_type": "stream",
     "text": [
      "This is line A\n",
      "This is line B\n",
      "This is line C\n",
      "This is line D\n",
      "\n"
     ]
    }
   ],
   "source": [
    "with open(\"example3.txt\",\"r\") as testwritefile:\n",
    "    print(testwritefile.read())"
   ]
  },
  {
   "cell_type": "markdown",
   "id": "0368bec6-8191-4eb7-8ecc-04b4b2c97bb1",
   "metadata": {},
   "source": [
    "<h2 id=\"copy\">Copy a File</h2> "
   ]
  },
  {
   "cell_type": "code",
   "execution_count": 61,
   "id": "5ce47fd9-65fd-40b1-b22f-b5b059912027",
   "metadata": {},
   "outputs": [],
   "source": [
    "# copy file to another\n",
    "\n",
    "with open(\"example3.txt\",\"r\") as readfile:\n",
    "    with open(\"example4.txt\",\"w\") as writefile:\n",
    "        for line in readfile:\n",
    "            writefile.write(line)"
   ]
  },
  {
   "cell_type": "code",
   "execution_count": 63,
   "id": "cb6aba0a-9ea9-4e33-ba3d-ec0d27224322",
   "metadata": {},
   "outputs": [
    {
     "name": "stdout",
     "output_type": "stream",
     "text": [
      "This is line A\n",
      "This is line B\n",
      "This is line C\n",
      "This is line D\n",
      "\n"
     ]
    }
   ],
   "source": [
    "with open(\"example3.txt\",\"r\") as testwritefile:\n",
    "    print(testwritefile.read())"
   ]
  },
  {
   "cell_type": "code",
   "execution_count": 64,
   "id": "31eeda58-679a-49f7-b54e-421ce9c246d4",
   "metadata": {},
   "outputs": [
    {
     "name": "stdout",
     "output_type": "stream",
     "text": [
      "This is line A\n",
      "This is line B\n",
      "This is line C\n",
      "This is line D\n",
      "\n"
     ]
    }
   ],
   "source": [
    "with open(\"example4.txt\",\"r\") as testwritefile:\n",
    "    print(testwritefile.read())"
   ]
  },
  {
   "cell_type": "code",
   "execution_count": null,
   "id": "96d9fbd2-a1a6-4539-b925-1f0a80a439a0",
   "metadata": {},
   "outputs": [],
   "source": []
  }
 ],
 "metadata": {
  "kernelspec": {
   "display_name": "Python 3 (ipykernel)",
   "language": "python",
   "name": "python3"
  },
  "language_info": {
   "codemirror_mode": {
    "name": "ipython",
    "version": 3
   },
   "file_extension": ".py",
   "mimetype": "text/x-python",
   "name": "python",
   "nbconvert_exporter": "python",
   "pygments_lexer": "ipython3",
   "version": "3.9.13"
  }
 },
 "nbformat": 4,
 "nbformat_minor": 5
}
