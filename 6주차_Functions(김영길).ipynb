{
 "cells": [
  {
   "cell_type": "markdown",
   "metadata": {
    "id": "2jwi-AriOsMR"
   },
   "source": [
    "## 2024 석사과정 김영길(2024155760)\n",
    "\n",
    "## 6주차_숙제 Functions"
   ]
  },
  {
   "cell_type": "markdown",
   "metadata": {
    "id": "Zmu4VyiNOsOE"
   },
   "source": [
    "<h2>Quiz on Functions</h2>"
   ]
  },
  {
   "cell_type": "markdown",
   "metadata": {},
   "source": [
    "Come up with a function that divides the first input by the second input:"
   ]
  },
  {
   "cell_type": "code",
   "execution_count": 4,
   "metadata": {
    "id": "EhhJRbDgOsOF"
   },
   "outputs": [],
   "source": [
    "# Write your code below and press Shift+Enter to execute"
   ]
  },
  {
   "cell_type": "code",
   "execution_count": 5,
   "metadata": {},
   "outputs": [
    {
     "name": "stdout",
     "output_type": "stream",
     "text": [
      " 2 / 10 =  0.2\n"
     ]
    }
   ],
   "source": [
    "def divide(a,b) : \n",
    "    c = a/b\n",
    "    return(c)\n",
    "\n",
    "result_value = divide(2, 10)\n",
    "print( \" 2 / 10 = \",result_value)"
   ]
  },
  {
   "cell_type": "markdown",
   "metadata": {
    "id": "bzZ_DiJFOsOI"
   },
   "source": [
    "Use the function <code>con</code> for the following question."
   ]
  },
  {
   "cell_type": "code",
   "execution_count": 7,
   "metadata": {
    "id": "BqJ8lgVqOsOI"
   },
   "outputs": [],
   "source": [
    "# Use the con function for the following question\n",
    "\n",
    "def con(a, b):\n",
    "    return(a + b)"
   ]
  },
  {
   "cell_type": "markdown",
   "metadata": {
    "id": "HovbxItzOsOL"
   },
   "source": [
    "Can the <code>con</code> function we defined before be used to add to integers or strings?"
   ]
  },
  {
   "cell_type": "code",
   "execution_count": null,
   "metadata": {
    "id": "bbQ3MsrDOsOL"
   },
   "outputs": [],
   "source": [
    "# Write your code below and press Shift+Enter to execute"
   ]
  },
  {
   "cell_type": "code",
   "execution_count": 11,
   "metadata": {},
   "outputs": [
    {
     "name": "stdout",
     "output_type": "stream",
     "text": [
      "add to intergres (1,2) :  3\n",
      "add to strings (a,b) :  ab\n"
     ]
    }
   ],
   "source": [
    "result_int = con(1, 2)\n",
    "result_str = con(\"a\",\"b\")\n",
    "print(\"add to intergres (1,2) : \",result_int)\n",
    "print(\"add to strings (a,b) : \",result_str)"
   ]
  },
  {
   "cell_type": "markdown",
   "metadata": {
    "id": "UhudXzCHOsON"
   },
   "source": [
    "Can the <code>con</code> function we defined before be used to concentrate a list or tuple?"
   ]
  },
  {
   "cell_type": "code",
   "execution_count": null,
   "metadata": {
    "id": "dhmsJzmLOsOO"
   },
   "outputs": [],
   "source": [
    "# Write your code below and press Shift+Enter to execute"
   ]
  },
  {
   "cell_type": "code",
   "execution_count": 14,
   "metadata": {},
   "outputs": [
    {
     "name": "stdout",
     "output_type": "stream",
     "text": [
      "add to lists :  [1, 2, 3, 'a', 'b', 'c']\n",
      "add to tuples :  (1, 2, 3, 'a', 'b', 'c')\n"
     ]
    }
   ],
   "source": [
    "result_list = con([1,2,3], ['a','b','c'])\n",
    "result_tuple = con( (1,2,3), ('a','b','c'))\n",
    "print(\"add to lists : \",result_list)\n",
    "print(\"add to tuples : \",result_tuple)"
   ]
  }
 ],
 "metadata": {
  "colab": {
   "provenance": []
  },
  "kernelspec": {
   "display_name": "Python 3 (ipykernel)",
   "language": "python",
   "name": "python3"
  },
  "language_info": {
   "codemirror_mode": {
    "name": "ipython",
    "version": 3
   },
   "file_extension": ".py",
   "mimetype": "text/x-python",
   "name": "python",
   "nbconvert_exporter": "python",
   "pygments_lexer": "ipython3",
   "version": "3.9.13"
  }
 },
 "nbformat": 4,
 "nbformat_minor": 4
}
