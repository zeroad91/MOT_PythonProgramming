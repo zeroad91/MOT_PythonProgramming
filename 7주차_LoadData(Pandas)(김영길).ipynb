{
 "cells": [
  {
   "cell_type": "markdown",
   "metadata": {
    "id": "B_KA3FPn5qrj"
   },
   "source": [
    "## 2024 석사과정 김영길(2024155760)\n",
    "\n",
    "## 7주차_숙제 LoadData(Pandas)"
   ]
  },
  {
   "cell_type": "markdown",
   "metadata": {
    "id": "Yza-K2eq5qsf"
   },
   "source": [
    "<h2 id=\"quiz\">Quiz on DataFrame</h2>"
   ]
  },
  {
   "cell_type": "markdown",
   "metadata": {
    "id": "9968JFkD5qsf"
   },
   "source": [
    "Use a variable <code>q</code> to store the column <b>Rating</b> as a dataframe"
   ]
  },
  {
   "cell_type": "code",
   "execution_count": null,
   "metadata": {
    "id": "vD_SPHSE5qsg"
   },
   "outputs": [],
   "source": [
    "# Write your code below and press Shift+Enter to execute"
   ]
  },
  {
   "cell_type": "code",
   "execution_count": 2,
   "metadata": {},
   "outputs": [
    {
     "name": "stdout",
     "output_type": "stream",
     "text": [
      "   Rating\n",
      "0    10.0\n",
      "1     9.5\n",
      "2     9.0\n",
      "3     8.5\n",
      "4     8.0\n",
      "5     7.5\n",
      "6     7.0\n",
      "7     6.5\n"
     ]
    }
   ],
   "source": [
    "import pandas as pd\n",
    "df = pd.read_csv('TopSellingAlbums.csv')\n",
    "\n",
    "q = df[['Rating']]\n",
    "print(q)"
   ]
  },
  {
   "cell_type": "markdown",
   "metadata": {
    "id": "u3WGr52P5qsk"
   },
   "source": [
    "Assign the variable <code>q</code> to the dataframe that is made up of the column <b>Released</b> and <b>Artist</b>:"
   ]
  },
  {
   "cell_type": "code",
   "execution_count": 3,
   "metadata": {
    "colab": {
     "base_uri": "https://localhost:8080/",
     "height": 284
    },
    "id": "XimE815j5qsk",
    "outputId": "0baeca7e-ab2f-43a1-8c75-95376d483169"
   },
   "outputs": [],
   "source": [
    "# Write your code below and press Shift+Enter to execute"
   ]
  },
  {
   "cell_type": "code",
   "execution_count": 5,
   "metadata": {},
   "outputs": [
    {
     "name": "stdout",
     "output_type": "stream",
     "text": [
      "   Released           Artist\n",
      "0      1982  Michael Jackson\n",
      "1      1980            AC/DC\n",
      "2      1973       Pink Floyd\n",
      "3      1992  Whitney Houston\n",
      "4      1977        Meat Loaf\n",
      "5      1976           Eagles\n",
      "6      1977         Bee Gees\n",
      "7      1977    Fleetwood Mac\n"
     ]
    }
   ],
   "source": [
    "q = df[['Released','Artist']]\n",
    "print(q)"
   ]
  },
  {
   "cell_type": "markdown",
   "metadata": {
    "id": "WgldhOLl5qsn"
   },
   "source": [
    "Access the 2nd row and the 3rd column of <code>df</code>:"
   ]
  },
  {
   "cell_type": "code",
   "execution_count": 6,
   "metadata": {
    "colab": {
     "base_uri": "https://localhost:8080/",
     "height": 34
    },
    "id": "1YR0ZTxn5qso",
    "outputId": "b9ca79cc-9cb4-4f59-9077-39d7a17c9162"
   },
   "outputs": [],
   "source": [
    "# Write your code below and press Shift+Enter to executeb"
   ]
  },
  {
   "cell_type": "code",
   "execution_count": 7,
   "metadata": {},
   "outputs": [
    {
     "data": {
      "text/plain": [
       "1980"
      ]
     },
     "execution_count": 7,
     "metadata": {},
     "output_type": "execute_result"
    }
   ],
   "source": [
    "df.iloc[1, 2]"
   ]
  }
 ],
 "metadata": {
  "anaconda-cloud": {},
  "colab": {
   "provenance": []
  },
  "kernelspec": {
   "display_name": "Python 3 (ipykernel)",
   "language": "python",
   "name": "python3"
  },
  "language_info": {
   "codemirror_mode": {
    "name": "ipython",
    "version": 3
   },
   "file_extension": ".py",
   "mimetype": "text/x-python",
   "name": "python",
   "nbconvert_exporter": "python",
   "pygments_lexer": "ipython3",
   "version": "3.9.13"
  }
 },
 "nbformat": 4,
 "nbformat_minor": 4
}
