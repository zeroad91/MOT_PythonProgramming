{
 "cells": [
  {
   "cell_type": "markdown",
   "id": "1d5c2a3f-8695-425b-832b-2dc0f1de1107",
   "metadata": {},
   "source": [
    "## 2024 석사과정 김영길(2024155760)\n",
    "## 12 주차 scrap 1 숙제\n",
    "### 강의 교안 p.9 부터의 코드를 모두 따라서 코딩하고 실행"
   ]
  },
  {
   "cell_type": "markdown",
   "id": "4fec2b98",
   "metadata": {},
   "source": [
    "## Structured files – XML, JSON"
   ]
  },
  {
   "cell_type": "markdown",
   "id": "b5ef17b6",
   "metadata": {},
   "source": [
    "### XML 파싱"
   ]
  },
  {
   "cell_type": "code",
   "execution_count": 5,
   "id": "42aaeabf-bbdf-45a3-bf99-72d60cd2d3de",
   "metadata": {},
   "outputs": [
    {
     "name": "stdout",
     "output_type": "stream",
     "text": [
      "menu\n",
      "<class 'xml.etree.ElementTree.Element'>\n"
     ]
    }
   ],
   "source": [
    "\n",
    "import xml.etree.ElementTree as et\n",
    "tree = et.ElementTree(file='menu.xml')\n",
    "root = tree.getroot()\n",
    "\n",
    "print(root.tag)\n",
    "\n",
    "print(type(root))"
   ]
  },
  {
   "cell_type": "code",
   "execution_count": 7,
   "id": "23e5e186-84d6-4a8e-8725-4e68b727411d",
   "metadata": {},
   "outputs": [
    {
     "name": "stdout",
     "output_type": "stream",
     "text": [
      "tag: breakfast attributes: {'hours': '7-11'}\n",
      "\ttag: item attributes: {'price': '$6.00'}\n",
      "\ttag: item attributes: {'price': '$4.00'}\n",
      "tag: lunch attributes: {'hours': '11-3'}\n",
      "\ttag: item attributes: {'price': '$5.00'}\n",
      "tag: dinner attributes: {'hours': '3-10'}\n",
      "\ttag: item attributes: {'price': '8.00'}\n"
     ]
    }
   ],
   "source": [
    "# 내용 프린트\n",
    "for child in root:\n",
    "    print('tag:',child.tag,'attributes:',child.attrib)\n",
    "    for grandchild in child:\n",
    "        print('\\ttag:', grandchild.tag,'attributes:',grandchild.attrib)"
   ]
  },
  {
   "cell_type": "code",
   "execution_count": 12,
   "id": "d85bc5f8",
   "metadata": {},
   "outputs": [
    {
     "name": "stdout",
     "output_type": "stream",
     "text": [
      "3\n",
      "2\n",
      "<class 'xml.etree.ElementTree.Element'>\n"
     ]
    }
   ],
   "source": [
    "# menum 하위 태그\n",
    "print( len(root) )\n",
    "print( len(root[0]) )\n",
    "\n",
    "print( type(root[0]) )"
   ]
  },
  {
   "cell_type": "code",
   "execution_count": 13,
   "id": "0dc73f36",
   "metadata": {},
   "outputs": [
    {
     "name": "stdout",
     "output_type": "stream",
     "text": [
      "<Element 'breakfast' at 0x0000021D620FF8B0>\n",
      "7-11\n",
      "['hours']\n",
      "[('hours', '7-11')]\n"
     ]
    }
   ],
   "source": [
    "# 특정 태그의 속성 값 접근 : get, kevs, items, methods\n",
    "print(root[0])\n",
    "print(root[0].get('hours'))\n",
    "print(root[0].keys())\n",
    "print(root[0].items())"
   ]
  },
  {
   "cell_type": "code",
   "execution_count": 15,
   "id": "d2b882e1",
   "metadata": {},
   "outputs": [
    {
     "name": "stdout",
     "output_type": "stream",
     "text": [
      "<Element 'lunch' at 0x0000021D6219C9F0>\n",
      "11-3\n",
      "['hours']\n",
      "[('hours', '11-3')]\n",
      "<class 'xml.etree.ElementTree.Element'>\n"
     ]
    }
   ],
   "source": [
    "# 태그 자체를 접근\n",
    "lunch = root.find(\"lunch\")\n",
    "print(lunch)\n",
    "print(lunch.get(\"hours\"))\n",
    "print(lunch.keys())\n",
    "print(lunch.items()) \n",
    "\n",
    "print(type(lunch))"
   ]
  },
  {
   "cell_type": "code",
   "execution_count": 17,
   "id": "7f6e7526",
   "metadata": {},
   "outputs": [
    {
     "name": "stdout",
     "output_type": "stream",
     "text": [
      "[<Element 'item' at 0x0000021D620FFD60>, <Element 'item' at 0x0000021D6219C810>]\n",
      "$6.00\n",
      "breakfast burritos\n",
      "$4.00\n",
      "pancakes\n"
     ]
    }
   ],
   "source": [
    "# 태그 안의 내용 프린트\n",
    "print(root[0].findall('item'))\n",
    "\n",
    "for item in root[0].findall('item'):\n",
    "    print(item.get('price'))\n",
    "    print(item.text)"
   ]
  },
  {
   "cell_type": "markdown",
   "id": "32a9cf09",
   "metadata": {},
   "source": [
    "### JSON"
   ]
  },
  {
   "cell_type": "code",
   "execution_count": 19,
   "id": "58ebb5cc",
   "metadata": {},
   "outputs": [
    {
     "data": {
      "text/plain": [
       "{'이름': '홍길동',\n",
       " '나이': 25,\n",
       " '성별': '여',\n",
       " '주소': '서울특별시 양천구 목동',\n",
       " '특기': ['농구', '도술'],\n",
       " '가족관계': {'#': 2, '아버지': '홍판서', '어머니': '춘섬'},\n",
       " '회사': '경기 수원시 팔달구 우만동'}"
      ]
     },
     "execution_count": 19,
     "metadata": {},
     "output_type": "execute_result"
    }
   ],
   "source": [
    "{\n",
    "    \"이름\":\"홍길동\",\n",
    "    \"나이\":25,\n",
    "    \"성별\":\"여\",\n",
    "    \"주소\":\"서울특별시 양천구 목동\",\n",
    "    \"특기\":[\"농구\",\"도술\"],\n",
    "    \"가족관계\":{\"#\":2,\"아버지\":\"홍판서\",\"어머니\":\"춘섬\"},\n",
    "    \"회사\":\"경기 수원시 팔달구 우만동\"\n",
    "}"
   ]
  },
  {
   "cell_type": "code",
   "execution_count": null,
   "id": "fd228954",
   "metadata": {},
   "outputs": [],
   "source": [
    "print()\n",
    "print()\n",
    "print()\n",
    "print()"
   ]
  },
  {
   "cell_type": "markdown",
   "id": "3ec4a542",
   "metadata": {},
   "source": [
    "### json dumps"
   ]
  },
  {
   "cell_type": "code",
   "execution_count": 26,
   "id": "0b0d09a3-6ba9-4470-a0ef-9a6f2493b339",
   "metadata": {},
   "outputs": [
    {
     "name": "stdout",
     "output_type": "stream",
     "text": [
      "{'name': '홍길동', 'birth': '0525', 'age': 30}\n",
      "{\"name\": \"\\ud64d\\uae38\\ub3d9\", \"birth\": \"0525\", \"age\": 30}\n",
      "{\n",
      "  \"name\": \"\\ud64d\\uae38\\ub3d9\",\n",
      "  \"birth\": \"0525\",\n",
      "  \"age\": 30\n",
      "}\n",
      "[1, 2, 3]\n",
      "[1, 2, 3]\n"
     ]
    }
   ],
   "source": [
    "import json\n",
    "j1 = {\"name\":\"홍길동\",\"birth\":\"0525\",\"age\":30}\n",
    "print(j1)\n",
    "\n",
    "# json dumps\n",
    "print( json.dumps(j1) )\n",
    "\n",
    "# json 문자열 정렬\n",
    "print( json.dumps(j1, indent=2))\n",
    "\n",
    "# 리스트, 튜플을 JSON 문자열로 변경\n",
    "print( json.dumps([1,2,3]) )\n",
    "\n",
    "print( json.dumps((1,2,3)) )"
   ]
  },
  {
   "cell_type": "markdown",
   "id": "a13d97bc",
   "metadata": {},
   "source": [
    "### Json file"
   ]
  },
  {
   "cell_type": "code",
   "execution_count": 36,
   "id": "f3079d3c",
   "metadata": {},
   "outputs": [
    {
     "name": "stdout",
     "output_type": "stream",
     "text": [
      "<class 'dict'>\n",
      "{'name': 'honggildong', 'birth': '0525', 'age': 30}\n"
     ]
    }
   ],
   "source": [
    "# 파일 로드\n",
    "with open('./myinfo.json') as f:\n",
    "    data = json.load(f)\n",
    "\n",
    "print(type(data))\n",
    "\n",
    "print(data)"
   ]
  },
  {
   "cell_type": "markdown",
   "id": "b5a86825",
   "metadata": {},
   "source": [
    "## Web Scrapping"
   ]
  },
  {
   "cell_type": "markdown",
   "id": "74478e0f",
   "metadata": {},
   "source": [
    "###  html 파일 스크래핑"
   ]
  },
  {
   "cell_type": "code",
   "execution_count": 39,
   "id": "fb51de66",
   "metadata": {},
   "outputs": [
    {
     "name": "stdout",
     "output_type": "stream",
     "text": [
      "b'<html>\\n<head>\\n<title>A Useful Page</title>\\n</head>\\n<body>\\n<h1>An Interesting Title</h1>\\n<div>\\nLorem ipsum dolor sit amet, consectetur adipisicing elit, sed do eiusmod tempor incididunt ut labore et dolore magna aliqua. Ut enim ad minim veniam, quis nostrud exercitation ullamco laboris nisi ut aliquip ex ea commodo consequat. Duis aute irure dolor in reprehenderit in voluptate velit esse cillum dolore eu fugiat nulla pariatur. Excepteur sint occaecat cupidatat non proident, sunt in culpa qui officia deserunt mollit anim id est laborum.\\n</div>\\n</body>\\n</html>\\n'\n"
     ]
    }
   ],
   "source": [
    "# html 파일 스크래핑\n",
    "\n",
    "from urllib.request import urlopen\n",
    "html = urlopen(\"https://pythonscraping.com/pages/page1.html\")\n",
    "print(html.read())"
   ]
  },
  {
   "cell_type": "markdown",
   "id": "4e3b8d85",
   "metadata": {},
   "source": [
    "### BeautifulSoup"
   ]
  },
  {
   "cell_type": "code",
   "execution_count": 41,
   "id": "7fcfbf2b-7a27-4841-9ac5-62c8af222ec7",
   "metadata": {},
   "outputs": [
    {
     "name": "stdout",
     "output_type": "stream",
     "text": [
      "<html>\n",
      "<head>\n",
      "<title>A Useful Page</title>\n",
      "</head>\n",
      "<body>\n",
      "<h1>An Interesting Title</h1>\n",
      "<div>\n",
      "Lorem ipsum dolor sit amet, consectetur adipisicing elit, sed do eiusmod tempor incididunt ut labore et dolore magna aliqua. Ut enim ad minim veniam, quis nostrud exercitation ullamco laboris nisi ut aliquip ex ea commodo consequat. Duis aute irure dolor in reprehenderit in voluptate velit esse cillum dolore eu fugiat nulla pariatur. Excepteur sint occaecat cupidatat non proident, sunt in culpa qui officia deserunt mollit anim id est laborum.\n",
      "</div>\n",
      "</body>\n",
      "</html>\n",
      "\n",
      "<html>\n",
      " <head>\n",
      "  <title>\n",
      "   A Useful Page\n",
      "  </title>\n",
      " </head>\n",
      " <body>\n",
      "  <h1>\n",
      "   An Interesting Title\n",
      "  </h1>\n",
      "  <div>\n",
      "   Lorem ipsum dolor sit amet, consectetur adipisicing elit, sed do eiusmod tempor incididunt ut labore et dolore magna aliqua. Ut enim ad minim veniam, quis nostrud exercitation ullamco laboris nisi ut aliquip ex ea commodo consequat. Duis aute irure dolor in reprehenderit in voluptate velit esse cillum dolore eu fugiat nulla pariatur. Excepteur sint occaecat cupidatat non proident, sunt in culpa qui officia deserunt mollit anim id est laborum.\n",
      "  </div>\n",
      " </body>\n",
      "</html>\n",
      "\n"
     ]
    }
   ],
   "source": [
    "from urllib.request import urlopen\n",
    "from bs4 import BeautifulSoup\n",
    "html = urlopen(\"https://pythonscraping.com/pages/page1.html\")\n",
    "bsObj = BeautifulSoup(html.read(), \"html.parser\")\n",
    "print(bsObj)\n",
    "\n",
    "# 특징\n",
    "print(bsObj.html.prettify())"
   ]
  }
 ],
 "metadata": {
  "kernelspec": {
   "display_name": "Python 3 (ipykernel)",
   "language": "python",
   "name": "python3"
  },
  "language_info": {
   "codemirror_mode": {
    "name": "ipython",
    "version": 3
   },
   "file_extension": ".py",
   "mimetype": "text/x-python",
   "name": "python",
   "nbconvert_exporter": "python",
   "pygments_lexer": "ipython3",
   "version": "3.9.13"
  }
 },
 "nbformat": 4,
 "nbformat_minor": 5
}
