{
 "cells": [
  {
   "cell_type": "markdown",
   "id": "1d5c2a3f-8695-425b-832b-2dc0f1de1107",
   "metadata": {},
   "source": [
    "## 2024 석사과정 김영길(2024155760)\n",
    "## 10 주차 클래스 숙제\n",
    "## 교안 p.11 ~  p. 31 까지의 코드를 모두 따라서 코딩하고 실행"
   ]
  },
  {
   "cell_type": "markdown",
   "id": "031962fb-fe39-49ea-8347-fe6f8cf3b7e7",
   "metadata": {},
   "source": [
    "## 계산기 더하기 기능"
   ]
  },
  {
   "cell_type": "code",
   "execution_count": 4,
   "id": "c954a442-0895-4095-b28c-251329892559",
   "metadata": {},
   "outputs": [
    {
     "name": "stdout",
     "output_type": "stream",
     "text": [
      "3\n",
      "7\n"
     ]
    }
   ],
   "source": [
    "result = 0\n",
    "\n",
    "def adder(num):\n",
    "    global result\n",
    "    result +=num\n",
    "    return result\n",
    "\n",
    "print( adder(3) )\n",
    "print( adder(4) )"
   ]
  },
  {
   "cell_type": "code",
   "execution_count": 5,
   "id": "a1d6ccc5-e0c9-4e55-b2dc-526ce3ff5a3d",
   "metadata": {},
   "outputs": [
    {
     "name": "stdout",
     "output_type": "stream",
     "text": [
      "3\n",
      "7\n",
      "3\n",
      "10\n"
     ]
    }
   ],
   "source": [
    "result1 = 0\n",
    "result2 = 0\n",
    "\n",
    "def adder1(num):\n",
    "    global result1\n",
    "    result1 += num\n",
    "    return result1\n",
    "\n",
    "def adder2(num):\n",
    "    global result2\n",
    "    result2 += num\n",
    "    return result2\n",
    "\n",
    "print( adder1(3) )\n",
    "print( adder1(4) )\n",
    "print( adder2(3) )\n",
    "print( adder2(7) )"
   ]
  },
  {
   "cell_type": "code",
   "execution_count": 6,
   "id": "a9c69e51",
   "metadata": {},
   "outputs": [
    {
     "name": "stdout",
     "output_type": "stream",
     "text": [
      "3\n",
      "7\n",
      "3\n",
      "10\n"
     ]
    }
   ],
   "source": [
    "class Calculator:\n",
    "    def __init__(self):\n",
    "        self.result = 0\n",
    "\n",
    "    def adder(self, num):\n",
    "        self.result += num\n",
    "        return self.result\n",
    "    \n",
    "cal1 = Calculator()\n",
    "cal2 = Calculator()\n",
    "\n",
    "print(cal1.adder(3))\n",
    "print(cal1.adder(4))\n",
    "print(cal2.adder(3))\n",
    "print(cal2.adder(7))"
   ]
  },
  {
   "cell_type": "markdown",
   "id": "b5ef17b6",
   "metadata": {},
   "source": [
    "## 클래스 변수"
   ]
  },
  {
   "cell_type": "code",
   "execution_count": 8,
   "id": "42aaeabf-bbdf-45a3-bf99-72d60cd2d3de",
   "metadata": {},
   "outputs": [
    {
     "data": {
      "text/plain": [
       "'지구는 4006년에 멸망한다.'"
      ]
     },
     "execution_count": 8,
     "metadata": {},
     "output_type": "execute_result"
    }
   ],
   "source": [
    "class Service:\n",
    "    secret = \"지구는 4006년에 멸망한다.\"\n",
    "\n",
    "an = Service()\n",
    "an.secret"
   ]
  },
  {
   "cell_type": "code",
   "execution_count": 11,
   "id": "23e5e186-84d6-4a8e-8725-4e68b727411d",
   "metadata": {},
   "outputs": [
    {
     "name": "stdout",
     "output_type": "stream",
     "text": [
      "지구는 4006년에 멸망한다.\n",
      "지구는 4006년에 멸망한다는 사실은 뻥이다.\n"
     ]
    }
   ],
   "source": [
    "print( Service.secret )\n",
    "\n",
    "Service.secret = '지구는 4006년에 멸망한다는 사실은 뻥이다.'\n",
    "\n",
    "print( Service.secret )"
   ]
  },
  {
   "cell_type": "code",
   "execution_count": 17,
   "id": "0b0d09a3-6ba9-4470-a0ef-9a6f2493b339",
   "metadata": {},
   "outputs": [
    {
     "name": "stdout",
     "output_type": "stream",
     "text": [
      "1 + 1 = 2이다.\n"
     ]
    }
   ],
   "source": [
    "class Service:\n",
    "    secret = '지구는 4006년에 멸망한다'\n",
    "    def sum(self, a, b):\n",
    "        result = a+b\n",
    "        print(\"%s + %s = %s이다.\" % (a, b, result))\n",
    "\n",
    "\n",
    "an = Service()\n",
    "an.sum(1,1)"
   ]
  },
  {
   "cell_type": "markdown",
   "id": "74478e0f",
   "metadata": {},
   "source": [
    "## 객체 변수"
   ]
  },
  {
   "cell_type": "code",
   "execution_count": 18,
   "id": "7fcfbf2b-7a27-4841-9ac5-62c8af222ec7",
   "metadata": {},
   "outputs": [
    {
     "name": "stdout",
     "output_type": "stream",
     "text": [
      "박달도사님, 1 + 1 = 2입니다.\n"
     ]
    }
   ],
   "source": [
    "class Service:\n",
    "    secret = '지구는 4006년에 멸망한다'\n",
    "    def setname(self, name):\n",
    "        self.name = name\n",
    "\n",
    "    def sum(self, a, b):\n",
    "        result = a+b\n",
    "        print(\"%s님, %s + %s = %s입니다.\" % (self.name, a, b, result))\n",
    "\n",
    "an = Service()\n",
    "an.setname('박달도사')\n",
    "an.sum(1,1)"
   ]
  },
  {
   "cell_type": "code",
   "execution_count": 22,
   "id": "d9aa4175-c831-4372-8cb9-0011aa36e7c0",
   "metadata": {},
   "outputs": [
    {
     "name": "stdout",
     "output_type": "stream",
     "text": [
      "김영길\n",
      "박융합\n",
      "지구는 4006년에 멸망한다\n",
      "비밀은 없다\n",
      "지구는 4006년에 멸망한다\n"
     ]
    }
   ],
   "source": [
    "kim = Service()\n",
    "park = Service()\n",
    "kim.name = \"김영길\"\n",
    "park.name = \"박융합\"\n",
    "\n",
    "print(kim.name)\n",
    "print(park.name)\n",
    "\n",
    "print(park.secret)\n",
    "\n",
    "kim.secret = \"비밀은 없다\"\n",
    "print(kim.secret)\n",
    "\n",
    "print(Service.secret)\n"
   ]
  },
  {
   "cell_type": "code",
   "execution_count": 24,
   "id": "98fce734-7787-4b0a-96bd-1edb39a763a2",
   "metadata": {},
   "outputs": [
    {
     "name": "stdout",
     "output_type": "stream",
     "text": [
      "박달도사님, 1 + 1 = 2입니다.\n"
     ]
    }
   ],
   "source": [
    "lee = Service()\n",
    "# lee.sum(1,1) # Error 발생\n",
    "\n",
    "class Service:\n",
    "    secret = '지구는 4006년에 멸망한다'\n",
    "    def __init__(self, name):\n",
    "        self.name = name\n",
    "    def sum(self, a, b):\n",
    "        result = a+b\n",
    "        print(\"%s님, %s + %s = %s입니다.\" % (self.name, a, b, result))\n",
    "\n",
    "an = Service('박달도사')\n",
    "an.sum(1,1)\n",
    "\n"
   ]
  },
  {
   "cell_type": "markdown",
   "id": "31b2ce52",
   "metadata": {},
   "source": [
    "## 사칙연산 클래스"
   ]
  },
  {
   "cell_type": "code",
   "execution_count": 25,
   "id": "96331d51-3a2e-4cf5-b7b8-a3125cd71f61",
   "metadata": {},
   "outputs": [
    {
     "name": "stdout",
     "output_type": "stream",
     "text": [
      "4\n",
      "2\n"
     ]
    }
   ],
   "source": [
    "class FourCal:\n",
    "    def setdata(self, first, second):\n",
    "        self.first = first\n",
    "        self.second = second\n",
    "\n",
    "a = FourCal()\n",
    "a.setdata(4,2)\n",
    "\n",
    "print(a.first)\n",
    "print(a.second)"
   ]
  },
  {
   "cell_type": "code",
   "execution_count": 26,
   "id": "80dbdcb9-ca32-4f5a-b0f1-e5271e948110",
   "metadata": {},
   "outputs": [
    {
     "name": "stdout",
     "output_type": "stream",
     "text": [
      "6\n"
     ]
    }
   ],
   "source": [
    "class FourCal:\n",
    "    def setdata(self, first, second):\n",
    "        self.first = first\n",
    "        self.second = second\n",
    "    def sum(self):\n",
    "        result = self.first + self.second\n",
    "        return result\n",
    "\n",
    "a = FourCal()\n",
    "a.setdata(4,2)\n",
    "\n",
    "print(a.sum())"
   ]
  },
  {
   "cell_type": "code",
   "execution_count": 28,
   "id": "c8f4cb2e-71a7-4a7f-9510-d7c1e331119f",
   "metadata": {},
   "outputs": [
    {
     "name": "stdout",
     "output_type": "stream",
     "text": [
      "6\n",
      "8\n",
      "2\n",
      "2.0\n",
      "-4\n"
     ]
    }
   ],
   "source": [
    "class FourCal:\n",
    "    def setdata(self, first, second):\n",
    "        self.first = first\n",
    "        self.second = second\n",
    "    def sum(self):\n",
    "        result = self.first + self.second\n",
    "        return result\n",
    "    def mul(self):\n",
    "        result = self.first * self.second\n",
    "        return result\n",
    "    def sub(self):\n",
    "        result = self.first - self.second\n",
    "        return result\n",
    "    def div(self):\n",
    "        result = self.first / self.second\n",
    "        return result                        \n",
    "\n",
    "a = FourCal()\n",
    "b = FourCal()\n",
    "a.setdata(4,2)\n",
    "b.setdata(3,7)\n",
    "\n",
    "print( a.sum() )\n",
    "print( a.mul() )\n",
    "print( a.sub() )\n",
    "print( a.div() )\n",
    "\n",
    "print( b.sub() )"
   ]
  },
  {
   "cell_type": "markdown",
   "id": "26b157b9",
   "metadata": {},
   "source": [
    "## 순차적 프로그래밍"
   ]
  },
  {
   "cell_type": "code",
   "execution_count": 30,
   "id": "5ce47fd9-65fd-40b1-b22f-b5b059912027",
   "metadata": {},
   "outputs": [
    {
     "name": "stdout",
     "output_type": "stream",
     "text": [
      "Player 1 rolled [6, 2, 3]\n",
      "Player 2 rolled [3, 3, 3]\n",
      "Palyer 1 wins\n"
     ]
    }
   ],
   "source": [
    "import random\n",
    "\n",
    "player1_dice = []\n",
    "player2_dice = []\n",
    "\n",
    "for i in range(3):\n",
    "    player1_dice.append(random.randint(1, 6))\n",
    "    player2_dice.append(random.randint(1, 6))\n",
    "\n",
    "print(\"Player 1 rolled \"+ str(player1_dice))\n",
    "print(\"Player 2 rolled \"+ str(player2_dice))\n",
    "\n",
    "if sum(player1_dice) == sum(player2_dice):\n",
    "    print(\"Draw\")\n",
    "elif sum(player1_dice) > sum(player2_dice):\n",
    "    print(\"Palyer 1 wins\")\n",
    "else :\n",
    "    print(\"Palyer 2 wins\")    "
   ]
  },
  {
   "cell_type": "markdown",
   "id": "1a0fb170",
   "metadata": {},
   "source": [
    "## OOP"
   ]
  },
  {
   "cell_type": "code",
   "execution_count": 32,
   "id": "31eeda58-679a-49f7-b54e-421ce9c246d4",
   "metadata": {},
   "outputs": [
    {
     "name": "stdout",
     "output_type": "stream",
     "text": [
      "Player 1 rolled [6, 5, 4]\n",
      "Player 2 rolled [4, 2, 3]\n",
      "Palyer 1 wins\n"
     ]
    }
   ],
   "source": [
    "from random import randint\n",
    "\n",
    "class Player:\n",
    "    def __init__(self):\n",
    "        self.dice = []\n",
    "    def roll(self):\n",
    "        self.dice = []\n",
    "        for i in range(3):\n",
    "            self.dice.append(randint(1,6))\n",
    "    def get_dice(self):\n",
    "        return self.dice\n",
    "\n",
    "player1 = Player()\n",
    "player2 = Player()\n",
    "\n",
    "player1.roll()\n",
    "player2.roll()\n",
    "\n",
    "print(\"Player 1 rolled \"+str(player1.get_dice()))\n",
    "print(\"Player 2 rolled \"+str(player2.get_dice()))\n",
    "\n",
    "if sum(player1.get_dice()) == sum(player2.get_dice()):\n",
    "    print(\"Draw\")\n",
    "elif sum(player1.get_dice()) > sum(player2.get_dice()):\n",
    "    print(\"Palyer 1 wins\")\n",
    "else :\n",
    "    print(\"Palyer 2 wins\")  "
   ]
  }
 ],
 "metadata": {
  "kernelspec": {
   "display_name": "Python 3 (ipykernel)",
   "language": "python",
   "name": "python3"
  },
  "language_info": {
   "codemirror_mode": {
    "name": "ipython",
    "version": 3
   },
   "file_extension": ".py",
   "mimetype": "text/x-python",
   "name": "python",
   "nbconvert_exporter": "python",
   "pygments_lexer": "ipython3",
   "version": "3.9.13"
  }
 },
 "nbformat": 4,
 "nbformat_minor": 5
}
