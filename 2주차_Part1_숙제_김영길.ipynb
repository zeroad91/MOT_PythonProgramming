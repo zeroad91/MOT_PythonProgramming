{
 "cells": [
  {
   "cell_type": "markdown",
   "metadata": {},
   "source": [
    "<h1>2024 석사과정 김영길(2024155760)</h1>\n",
    "<h2>2주차_Part1 숙제</h2>"
   ]
  },
  {
   "cell_type": "markdown",
   "metadata": {
    "id": "nVBcvT5A4YD8"
   },
   "source": [
    "<h3 id=\"exercise\">Exercise 1 (Types): Your First Program</h3>\n",
    "숙제 제출시 반드시 \"Exercise 1 (Types) : Your First Program\"이라는 것과 함께, 자신의 이름과 학번을 꼭 기재하세요 (comment도 좋고, 아니면 파일이름에라도 좋고)"
   ]
  },
  {
   "cell_type": "markdown",
   "metadata": {},
   "source": [
    "<p>Generations of programmers have started their coding careers by simply printing \"Hello, world!\". You will be following in their footsteps.</p>\n",
    "<p>In the code cell below, use the <code>print()</code> function to print out the phrase: <code>Hello, world!</code></p>"
   ]
  },
  {
   "cell_type": "code",
   "execution_count": 86,
   "metadata": {
    "id": "1xa4Ohxf4YD9"
   },
   "outputs": [],
   "source": [
    "# Write your code below and press Shift+Enter to execute "
   ]
  },
  {
   "cell_type": "code",
   "execution_count": 1,
   "metadata": {},
   "outputs": [
    {
     "name": "stdout",
     "output_type": "stream",
     "text": [
      "hello, world!\n",
      "my first python program!\n"
     ]
    }
   ],
   "source": [
    "print(\"hello, world!\")\n",
    "print(\"my first python program!\")"
   ]
  },
  {
   "cell_type": "markdown",
   "metadata": {
    "id": "23CTovIC4YD9"
   },
   "source": [
    "Double-click __here__ for the solution.\n",
    "\n",
    "<!-- Your answer is below:\n",
    "\n",
    "print(\"Hello, world!\")\n",
    "\n",
    "-->"
   ]
  },
  {
   "cell_type": "markdown",
   "metadata": {},
   "source": [
    "<p>Now, let's enhance your code with a comment. In the code cell below, print out the phrase: <code>Hello, world!</code> and comment it with the phrase <code>Print the traditional hello world</code> all in one line of code.</p>"
   ]
  },
  {
   "cell_type": "code",
   "execution_count": 12,
   "metadata": {
    "id": "jj0A14ts4YD9"
   },
   "outputs": [],
   "source": [
    "# Write your code below and press Shift+Enter to execute "
   ]
  },
  {
   "cell_type": "code",
   "execution_count": 14,
   "metadata": {
    "colab": {
     "base_uri": "https://localhost:8080/"
    },
    "id": "d1NWBZIkVmOL",
    "outputId": "75b74a5a-65cf-4012-babf-27e6726c5eee"
   },
   "outputs": [
    {
     "name": "stdout",
     "output_type": "stream",
     "text": [
      "Hello, world!\n"
     ]
    }
   ],
   "source": [
    "# python programming comment #\n",
    "print(\"Hello, world!\") # Print the traditional hello world"
   ]
  },
  {
   "cell_type": "markdown",
   "metadata": {
    "id": "g5cYyeQg4YD9"
   },
   "source": [
    "Double-click __here__ for the solution.\n",
    "\n",
    "<!-- Your answer is below:\n",
    "\n",
    "print(\"Hello, world!\") # Print the traditional hello world\n",
    "\n",
    "-->\n"
   ]
  },
  {
   "cell_type": "code",
   "execution_count": null,
   "metadata": {},
   "outputs": [],
   "source": []
  }
 ],
 "metadata": {
  "colab": {
   "provenance": []
  },
  "kernelspec": {
   "display_name": "Python 3 (ipykernel)",
   "language": "python",
   "name": "python3"
  },
  "language_info": {
   "codemirror_mode": {
    "name": "ipython",
    "version": 3
   },
   "file_extension": ".py",
   "mimetype": "text/x-python",
   "name": "python",
   "nbconvert_exporter": "python",
   "pygments_lexer": "ipython3",
   "version": "3.9.13"
  }
 },
 "nbformat": 4,
 "nbformat_minor": 4
}
