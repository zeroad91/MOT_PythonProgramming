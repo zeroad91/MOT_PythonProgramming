{
 "cells": [
  {
   "cell_type": "markdown",
   "metadata": {
    "id": "mlC9YPnZIoPG"
   },
   "source": [
    "### <b>2024 석사과정 김영길(2024155760)</b>\n",
    "<br>\n",
    "4주차_숙제 Conditions\n",
    "<br><br>"
   ]
  },
  {
   "cell_type": "markdown",
   "metadata": {
    "id": "3IC26T7bIoQK"
   },
   "source": [
    "<h2 id=\"quiz\">Quiz on Conditions</h2>"
   ]
  },
  {
   "cell_type": "markdown",
   "metadata": {
    "id": "mt0VcGaoIoQK"
   },
   "source": [
    "Write an if statement to determine if an album had a rating greater than 8. Test it using the rating for the album <b>“Back in Black”</b> that had a rating of 8.5. If the statement is true print \"This album is Amazing!\""
   ]
  },
  {
   "cell_type": "code",
   "execution_count": null,
   "metadata": {
    "id": "uM3HRp4iIoQK",
    "outputId": "e8c776bd-00ae-4fe7-ab48-aacfaaa1b6c3"
   },
   "outputs": [
    {
     "name": "stdout",
     "output_type": "stream",
     "text": [
      "This album is Amazing!\n"
     ]
    }
   ],
   "source": [
    "# Write your code below and press Shift+Enter to execute"
   ]
  },
  {
   "cell_type": "code",
   "execution_count": 2,
   "metadata": {
    "scrolled": true
   },
   "outputs": [
    {
     "name": "stdout",
     "output_type": "stream",
     "text": [
      "This album is Amazing\n"
     ]
    }
   ],
   "source": [
    "rating = 8.5\n",
    "if rating > 8 :\n",
    "    print(\"This album is Amazing\")"
   ]
  },
  {
   "cell_type": "markdown",
   "metadata": {
    "id": "PtR5F1i3IoQO"
   },
   "source": [
    "Write an if-else statement that performs the following. If the rating is larger then eight print “this album is amazing”. If the rating is less than or equal to 8 print “this album is ok”."
   ]
  },
  {
   "cell_type": "code",
   "execution_count": null,
   "metadata": {
    "id": "s4NbZlNLIoQO",
    "outputId": "798bff22-e744-4d63-d211-9c849c529e78"
   },
   "outputs": [
    {
     "name": "stdout",
     "output_type": "stream",
     "text": [
      "this album is ok\n"
     ]
    }
   ],
   "source": [
    "# Write your code below and press Shift+Enter to execute"
   ]
  },
  {
   "cell_type": "code",
   "execution_count": 5,
   "metadata": {},
   "outputs": [
    {
     "name": "stdout",
     "output_type": "stream",
     "text": [
      "this album is amazing\n"
     ]
    }
   ],
   "source": [
    "rating = 8.5\n",
    "if rating > 8 :\n",
    "    print(\"this album is amazing\")\n",
    "elif rating <= 8 :\n",
    "    print(\"This album is Ok\")"
   ]
  },
  {
   "cell_type": "markdown",
   "metadata": {
    "id": "Ickq5nDuIoQR"
   },
   "source": [
    "<hr>"
   ]
  },
  {
   "cell_type": "markdown",
   "metadata": {
    "id": "xlvACVa3IoQS"
   },
   "source": [
    "Write an if statement to determine if an album came out before 1980 or in the years: 1991 or 1993. If the condition is true print out the year the album came out."
   ]
  },
  {
   "cell_type": "code",
   "execution_count": null,
   "metadata": {
    "id": "w0ys9FArIoQS",
    "outputId": "57c1b839-069f-497a-b05a-d89b4715f6f1"
   },
   "outputs": [
    {
     "name": "stdout",
     "output_type": "stream",
     "text": [
      "this album came out already\n"
     ]
    }
   ],
   "source": [
    "# Write your code below and press Shift+Enter to execute"
   ]
  },
  {
   "cell_type": "code",
   "execution_count": 11,
   "metadata": {},
   "outputs": [
    {
     "name": "stdout",
     "output_type": "stream",
     "text": [
      "this album came out alread\n"
     ]
    }
   ],
   "source": [
    "album_year = 1970\n",
    "if (album_year < 1980 or album_year == 1991 or album_year == 1993) :\n",
    "    print( \"this album came out alread\")"
   ]
  },
  {
   "cell_type": "markdown",
   "metadata": {
    "id": "3qbaPIlLIoQU"
   },
   "source": [
    "<hr>\n",
    "<h2>The last exercise!</h2>\n",
    "<p>Congratulations, you have completed your first lesson and hands-on lab in Python. However, there is one more thing you need to do. The Data Science community encourages sharing work. The best way to share and showcase your work is to share it on GitHub. By sharing your notebook on GitHub you are not only building your reputation with fellow data scientists, but you can also show it off when applying for a job. Even though this was your first piece of work, it is never too early to start building good habits. Please submit all your exercises to Github & let the traces in our LMS, so for me to access your work.\n",
    "<hr>"
   ]
  },
  {
   "cell_type": "code",
   "execution_count": null,
   "metadata": {},
   "outputs": [],
   "source": []
  }
 ],
 "metadata": {
  "colab": {
   "provenance": []
  },
  "kernelspec": {
   "display_name": "Python 3 (ipykernel)",
   "language": "python",
   "name": "python3"
  },
  "language_info": {
   "codemirror_mode": {
    "name": "ipython",
    "version": 3
   },
   "file_extension": ".py",
   "mimetype": "text/x-python",
   "name": "python",
   "nbconvert_exporter": "python",
   "pygments_lexer": "ipython3",
   "version": "3.9.13"
  }
 },
 "nbformat": 4,
 "nbformat_minor": 4
}
